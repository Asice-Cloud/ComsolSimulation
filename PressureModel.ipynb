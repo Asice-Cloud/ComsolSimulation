{
 "cells": [
  {
   "cell_type": "code",
   "execution_count": null,
   "metadata": {},
   "outputs": [],
   "source": [
    "# acoutsic pressure model example:\n",
    "import numpy as np\n",
    "\n",
    "# Define variables\n",
    "vars = ['p(x, y)', 'omega', ['x', 'y']]\n",
    "\n",
    "# Define terms for the Frequency PML Model\n",
    "diffusion_term = 1 / (rho * np.array([sx/sy, sy/sx])) * p(x, y)\n",
    "reaction_term = (sx * sy * omega**2) / (rho * c**2) * p(x, y)\n",
    "\n",
    "# Frequency PML Model\n",
    "FrequencyPMLModel = diffusion_term - reaction_term\n",
    "\n",
    "def getPMLparameters(var, pmlBoundary, pmlWidth, sigmaMax, c, omega):\n",
    "    p1 = pmlBoundary[0]\n",
    "    p2 = pmlBoundary[1]\n",
    "    \n",
    "    sigma = 0\n",
    "    \n",
    "    if var - p1 >= 0:\n",
    "        sigma = ((var - p1) / pmlWidth) ** 2 * sigmaMax\n",
    "    elif p2 - var >= 0:\n",
    "        sigma = ((p2 - var) / pmlWidth) ** 2 * sigmaMax\n",
    "    \n",
    "    return 1 - 1j * c * sigma / omega\n",
    "\n"
   ]
  }
 ],
 "metadata": {
  "kernelspec": {
   "display_name": "Python 3",
   "language": "python",
   "name": "python3"
  },
  "language_info": {
   "name": "python",
   "version": "3.12.2"
  }
 },
 "nbformat": 4,
 "nbformat_minor": 2
}
