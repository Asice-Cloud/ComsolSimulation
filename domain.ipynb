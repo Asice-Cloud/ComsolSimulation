{
 "cells": [
  {
   "cell_type": "code",
   "execution_count": 1,
   "metadata": {},
   "outputs": [
    {
     "ename": "NameError",
     "evalue": "name 'frequency' is not defined",
     "output_type": "error",
     "traceback": [
      "\u001b[1;31m---------------------------------------------------------------------------\u001b[0m",
      "\u001b[1;31mNameError\u001b[0m                                 Traceback (most recent call last)",
      "Cell \u001b[1;32mIn[1], line 12\u001b[0m\n\u001b[0;32m     10\u001b[0m sigmaMax \u001b[38;5;241m=\u001b[39m \u001b[38;5;241m5\u001b[39m\n\u001b[0;32m     11\u001b[0m c \u001b[38;5;241m=\u001b[39m \u001b[38;5;241m3e8\u001b[39m  \u001b[38;5;66;03m# Speed of light\u001b[39;00m\n\u001b[1;32m---> 12\u001b[0m omega \u001b[38;5;241m=\u001b[39m \u001b[38;5;241m2\u001b[39m \u001b[38;5;241m*\u001b[39m np\u001b[38;5;241m.\u001b[39mpi \u001b[38;5;241m*\u001b[39m \u001b[43mfrequency\u001b[49m  \u001b[38;5;66;03m# Assuming frequency is defined elsewhere\u001b[39;00m\n\u001b[0;32m     14\u001b[0m \u001b[38;5;66;03m# Define Omega\u001b[39;00m\n\u001b[0;32m     15\u001b[0m \u001b[38;5;28;01mdef\u001b[39;00m \u001b[38;5;21momega\u001b[39m(x, y):\n",
      "\u001b[1;31mNameError\u001b[0m: name 'frequency' is not defined"
     ]
    }
   ],
   "source": [
    "# simulation domain design:\n",
    "import numpy as np\n",
    "\n",
    "# Define parameters\n",
    "r1 = 1\n",
    "r2 = 2\n",
    "w = 8\n",
    "h = 8\n",
    "pmlWidth = 2\n",
    "sigmaMax = 5\n",
    "c = 3e8  # Speed of light\n",
    "omega = 2 * np.pi * frequency  # Assuming frequency is defined elsewhere\n",
    "\n",
    "# Define Omega\n",
    "def omega(x, y):\n",
    "    rectangle = np.array([[-w/2, 0], [w/2, 0], [w/2, h/2], [-w/2, h/2]])\n",
    "    disk = np.pi * r1**2\n",
    "    return rectangle - disk\n",
    "\n",
    "# Define function to get PML parameters\n",
    "def getPMLparameters(var, pmlBoundary, pmlWidth, sigmaMax, c, omega):\n",
    "    p1, p2 = pmlBoundary\n",
    "    sigma = 0\n",
    "    \n",
    "    if var - p1 >= 0:\n",
    "        sigma = ((var - p1) / pmlWidth)**2 * sigmaMax\n",
    "    elif p2 - var >= 0:\n",
    "        sigma = ((p2 - var) / pmlWidth)**2 * sigmaMax\n",
    "    \n",
    "    return 1 - 1j * c * sigma / omega\n",
    "\n",
    "# Define points and bounds\n",
    "x = np.array([0, 0])  # Example x-coordinate\n",
    "y = np.array([0, 0])  # Example y-coordinate\n",
    "bounds = [(w/2, -np.inf), (h/2, -np.inf)]  # Example bounds\n",
    "\n",
    "# Apply getPMLparameters function to each point\n",
    "sx, sy = zip(*[getPMLparameters(coord, bound, pmlWidth, sigmaMax, c, omega) for coord, bound in zip([x, y], bounds)])\n",
    "\n",
    "print(\"sx:\", sx)\n",
    "print(\"sy:\", sy)\n"
   ]
  }
 ],
 "metadata": {
  "kernelspec": {
   "display_name": "Python 3",
   "language": "python",
   "name": "python3"
  },
  "language_info": {
   "codemirror_mode": {
    "name": "ipython",
    "version": 3
   },
   "file_extension": ".py",
   "mimetype": "text/x-python",
   "name": "python",
   "nbconvert_exporter": "python",
   "pygments_lexer": "ipython3",
   "version": "3.12.2"
  }
 },
 "nbformat": 4,
 "nbformat_minor": 2
}
